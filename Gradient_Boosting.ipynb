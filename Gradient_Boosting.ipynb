{
 "cells": [
  {
   "cell_type": "code",
   "id": "initial_id",
   "metadata": {
    "collapsed": true,
    "ExecuteTime": {
     "end_time": "2025-03-15T17:59:17.168970Z",
     "start_time": "2025-03-15T17:59:16.241885Z"
    }
   },
   "source": [
    "import pandas as pd\n",
    "import matplotlib.pyplot as plt\n",
    "import seaborn as sns\n",
    "from sklearn.ensemble import GradientBoostingRegressor\n",
    "import numpy as np"
   ],
   "outputs": [],
   "execution_count": 3
  },
  {
   "metadata": {
    "ExecuteTime": {
     "end_time": "2025-03-15T11:52:04.961342Z",
     "start_time": "2025-03-15T11:52:04.866137Z"
    }
   },
   "cell_type": "code",
   "source": [
    "df_store = pd.read_csv('stores.csv') #store data\n",
    "df_features = pd.read_csv('features.csv') #store data\n",
    "df_train = pd.read_csv('train.csv') #store data"
   ],
   "id": "aec9939c9a8fcad2",
   "outputs": [],
   "execution_count": 2
  },
  {
   "metadata": {
    "ExecuteTime": {
     "end_time": "2025-03-15T11:52:05.495937Z",
     "start_time": "2025-03-15T11:52:05.423955Z"
    }
   },
   "cell_type": "code",
   "source": [
    "# merging 3 different sets\n",
    "df = df_train.merge(df_features, on=['Store', 'Date'], how='inner').merge(df_store, on=['Store'], how='inner')"
   ],
   "id": "31a46e477c12bb88",
   "outputs": [],
   "execution_count": 3
  },
  {
   "metadata": {
    "ExecuteTime": {
     "end_time": "2025-03-15T12:01:03.672895Z",
     "start_time": "2025-03-15T12:01:03.669620Z"
    }
   },
   "cell_type": "code",
   "source": "df.rename(columns={'IsHoliday_x':'IsHoliday'},inplace=True)",
   "id": "6349329b961b28e6",
   "outputs": [],
   "execution_count": 4
  },
  {
   "metadata": {
    "ExecuteTime": {
     "end_time": "2025-03-15T12:01:04.432325Z",
     "start_time": "2025-03-15T12:01:04.415459Z"
    }
   },
   "cell_type": "code",
   "source": "df.drop(['IsHoliday_y'], axis=1,inplace=True) ",
   "id": "f80537d11830b198",
   "outputs": [],
   "execution_count": 5
  },
  {
   "metadata": {
    "ExecuteTime": {
     "end_time": "2025-03-15T12:01:04.929509Z",
     "start_time": "2025-03-15T12:01:04.909479Z"
    }
   },
   "cell_type": "code",
   "source": "df = df.loc[df['Weekly_Sales'] > 0]",
   "id": "e1a73a7ffba6f38b",
   "outputs": [],
   "execution_count": 6
  },
  {
   "metadata": {
    "ExecuteTime": {
     "end_time": "2025-03-15T12:01:05.371953Z",
     "start_time": "2025-03-15T12:01:05.337249Z"
    }
   },
   "cell_type": "code",
   "source": "df = df.fillna(0)",
   "id": "351d95ba14a2ff6c",
   "outputs": [],
   "execution_count": 7
  },
  {
   "metadata": {
    "ExecuteTime": {
     "end_time": "2025-03-15T12:01:05.759744Z",
     "start_time": "2025-03-15T12:01:05.735816Z"
    }
   },
   "cell_type": "code",
   "source": [
    "nan_counts = df.isna().sum()\n",
    "print(nan_counts)"
   ],
   "id": "d0afcc2dcc71a04b",
   "outputs": [
    {
     "name": "stdout",
     "output_type": "stream",
     "text": [
      "Store           0\n",
      "Dept            0\n",
      "Date            0\n",
      "Weekly_Sales    0\n",
      "IsHoliday       0\n",
      "Temperature     0\n",
      "Fuel_Price      0\n",
      "MarkDown1       0\n",
      "MarkDown2       0\n",
      "MarkDown3       0\n",
      "MarkDown4       0\n",
      "MarkDown5       0\n",
      "CPI             0\n",
      "Unemployment    0\n",
      "Type            0\n",
      "Size            0\n",
      "dtype: int64\n"
     ]
    }
   ],
   "execution_count": 8
  },
  {
   "metadata": {
    "ExecuteTime": {
     "end_time": "2025-03-15T12:01:06.911710Z",
     "start_time": "2025-03-15T12:01:06.900337Z"
    }
   },
   "cell_type": "code",
   "source": "df",
   "id": "250c2db1ecff93f3",
   "outputs": [
    {
     "data": {
      "text/plain": [
       "        Store  Dept        Date  Weekly_Sales  IsHoliday  Temperature  \\\n",
       "0           1     1  2010-02-05      24924.50      False        42.31   \n",
       "1           1     1  2010-02-12      46039.49       True        38.51   \n",
       "2           1     1  2010-02-19      41595.55      False        39.93   \n",
       "3           1     1  2010-02-26      19403.54      False        46.63   \n",
       "4           1     1  2010-03-05      21827.90      False        46.50   \n",
       "...       ...   ...         ...           ...        ...          ...   \n",
       "421565     45    98  2012-09-28        508.37      False        64.88   \n",
       "421566     45    98  2012-10-05        628.10      False        64.89   \n",
       "421567     45    98  2012-10-12       1061.02      False        54.47   \n",
       "421568     45    98  2012-10-19        760.01      False        56.47   \n",
       "421569     45    98  2012-10-26       1076.80      False        58.85   \n",
       "\n",
       "        Fuel_Price  MarkDown1  MarkDown2  MarkDown3  MarkDown4  MarkDown5  \\\n",
       "0            2.572       0.00       0.00       0.00       0.00       0.00   \n",
       "1            2.548       0.00       0.00       0.00       0.00       0.00   \n",
       "2            2.514       0.00       0.00       0.00       0.00       0.00   \n",
       "3            2.561       0.00       0.00       0.00       0.00       0.00   \n",
       "4            2.625       0.00       0.00       0.00       0.00       0.00   \n",
       "...            ...        ...        ...        ...        ...        ...   \n",
       "421565       3.997    4556.61      20.64       1.50    1601.01    3288.25   \n",
       "421566       3.985    5046.74       0.00      18.82    2253.43    2340.01   \n",
       "421567       4.000    1956.28       0.00       7.89     599.32    3990.54   \n",
       "421568       3.969    2004.02       0.00       3.18     437.73    1537.49   \n",
       "421569       3.882    4018.91      58.08     100.00     211.94     858.33   \n",
       "\n",
       "               CPI  Unemployment Type    Size  \n",
       "0       211.096358         8.106    A  151315  \n",
       "1       211.242170         8.106    A  151315  \n",
       "2       211.289143         8.106    A  151315  \n",
       "3       211.319643         8.106    A  151315  \n",
       "4       211.350143         8.106    A  151315  \n",
       "...            ...           ...  ...     ...  \n",
       "421565  192.013558         8.684    B  118221  \n",
       "421566  192.170412         8.667    B  118221  \n",
       "421567  192.327265         8.667    B  118221  \n",
       "421568  192.330854         8.667    B  118221  \n",
       "421569  192.308899         8.667    B  118221  \n",
       "\n",
       "[420212 rows x 16 columns]"
      ],
      "text/html": [
       "<div>\n",
       "<style scoped>\n",
       "    .dataframe tbody tr th:only-of-type {\n",
       "        vertical-align: middle;\n",
       "    }\n",
       "\n",
       "    .dataframe tbody tr th {\n",
       "        vertical-align: top;\n",
       "    }\n",
       "\n",
       "    .dataframe thead th {\n",
       "        text-align: right;\n",
       "    }\n",
       "</style>\n",
       "<table border=\"1\" class=\"dataframe\">\n",
       "  <thead>\n",
       "    <tr style=\"text-align: right;\">\n",
       "      <th></th>\n",
       "      <th>Store</th>\n",
       "      <th>Dept</th>\n",
       "      <th>Date</th>\n",
       "      <th>Weekly_Sales</th>\n",
       "      <th>IsHoliday</th>\n",
       "      <th>Temperature</th>\n",
       "      <th>Fuel_Price</th>\n",
       "      <th>MarkDown1</th>\n",
       "      <th>MarkDown2</th>\n",
       "      <th>MarkDown3</th>\n",
       "      <th>MarkDown4</th>\n",
       "      <th>MarkDown5</th>\n",
       "      <th>CPI</th>\n",
       "      <th>Unemployment</th>\n",
       "      <th>Type</th>\n",
       "      <th>Size</th>\n",
       "    </tr>\n",
       "  </thead>\n",
       "  <tbody>\n",
       "    <tr>\n",
       "      <th>0</th>\n",
       "      <td>1</td>\n",
       "      <td>1</td>\n",
       "      <td>2010-02-05</td>\n",
       "      <td>24924.50</td>\n",
       "      <td>False</td>\n",
       "      <td>42.31</td>\n",
       "      <td>2.572</td>\n",
       "      <td>0.00</td>\n",
       "      <td>0.00</td>\n",
       "      <td>0.00</td>\n",
       "      <td>0.00</td>\n",
       "      <td>0.00</td>\n",
       "      <td>211.096358</td>\n",
       "      <td>8.106</td>\n",
       "      <td>A</td>\n",
       "      <td>151315</td>\n",
       "    </tr>\n",
       "    <tr>\n",
       "      <th>1</th>\n",
       "      <td>1</td>\n",
       "      <td>1</td>\n",
       "      <td>2010-02-12</td>\n",
       "      <td>46039.49</td>\n",
       "      <td>True</td>\n",
       "      <td>38.51</td>\n",
       "      <td>2.548</td>\n",
       "      <td>0.00</td>\n",
       "      <td>0.00</td>\n",
       "      <td>0.00</td>\n",
       "      <td>0.00</td>\n",
       "      <td>0.00</td>\n",
       "      <td>211.242170</td>\n",
       "      <td>8.106</td>\n",
       "      <td>A</td>\n",
       "      <td>151315</td>\n",
       "    </tr>\n",
       "    <tr>\n",
       "      <th>2</th>\n",
       "      <td>1</td>\n",
       "      <td>1</td>\n",
       "      <td>2010-02-19</td>\n",
       "      <td>41595.55</td>\n",
       "      <td>False</td>\n",
       "      <td>39.93</td>\n",
       "      <td>2.514</td>\n",
       "      <td>0.00</td>\n",
       "      <td>0.00</td>\n",
       "      <td>0.00</td>\n",
       "      <td>0.00</td>\n",
       "      <td>0.00</td>\n",
       "      <td>211.289143</td>\n",
       "      <td>8.106</td>\n",
       "      <td>A</td>\n",
       "      <td>151315</td>\n",
       "    </tr>\n",
       "    <tr>\n",
       "      <th>3</th>\n",
       "      <td>1</td>\n",
       "      <td>1</td>\n",
       "      <td>2010-02-26</td>\n",
       "      <td>19403.54</td>\n",
       "      <td>False</td>\n",
       "      <td>46.63</td>\n",
       "      <td>2.561</td>\n",
       "      <td>0.00</td>\n",
       "      <td>0.00</td>\n",
       "      <td>0.00</td>\n",
       "      <td>0.00</td>\n",
       "      <td>0.00</td>\n",
       "      <td>211.319643</td>\n",
       "      <td>8.106</td>\n",
       "      <td>A</td>\n",
       "      <td>151315</td>\n",
       "    </tr>\n",
       "    <tr>\n",
       "      <th>4</th>\n",
       "      <td>1</td>\n",
       "      <td>1</td>\n",
       "      <td>2010-03-05</td>\n",
       "      <td>21827.90</td>\n",
       "      <td>False</td>\n",
       "      <td>46.50</td>\n",
       "      <td>2.625</td>\n",
       "      <td>0.00</td>\n",
       "      <td>0.00</td>\n",
       "      <td>0.00</td>\n",
       "      <td>0.00</td>\n",
       "      <td>0.00</td>\n",
       "      <td>211.350143</td>\n",
       "      <td>8.106</td>\n",
       "      <td>A</td>\n",
       "      <td>151315</td>\n",
       "    </tr>\n",
       "    <tr>\n",
       "      <th>...</th>\n",
       "      <td>...</td>\n",
       "      <td>...</td>\n",
       "      <td>...</td>\n",
       "      <td>...</td>\n",
       "      <td>...</td>\n",
       "      <td>...</td>\n",
       "      <td>...</td>\n",
       "      <td>...</td>\n",
       "      <td>...</td>\n",
       "      <td>...</td>\n",
       "      <td>...</td>\n",
       "      <td>...</td>\n",
       "      <td>...</td>\n",
       "      <td>...</td>\n",
       "      <td>...</td>\n",
       "      <td>...</td>\n",
       "    </tr>\n",
       "    <tr>\n",
       "      <th>421565</th>\n",
       "      <td>45</td>\n",
       "      <td>98</td>\n",
       "      <td>2012-09-28</td>\n",
       "      <td>508.37</td>\n",
       "      <td>False</td>\n",
       "      <td>64.88</td>\n",
       "      <td>3.997</td>\n",
       "      <td>4556.61</td>\n",
       "      <td>20.64</td>\n",
       "      <td>1.50</td>\n",
       "      <td>1601.01</td>\n",
       "      <td>3288.25</td>\n",
       "      <td>192.013558</td>\n",
       "      <td>8.684</td>\n",
       "      <td>B</td>\n",
       "      <td>118221</td>\n",
       "    </tr>\n",
       "    <tr>\n",
       "      <th>421566</th>\n",
       "      <td>45</td>\n",
       "      <td>98</td>\n",
       "      <td>2012-10-05</td>\n",
       "      <td>628.10</td>\n",
       "      <td>False</td>\n",
       "      <td>64.89</td>\n",
       "      <td>3.985</td>\n",
       "      <td>5046.74</td>\n",
       "      <td>0.00</td>\n",
       "      <td>18.82</td>\n",
       "      <td>2253.43</td>\n",
       "      <td>2340.01</td>\n",
       "      <td>192.170412</td>\n",
       "      <td>8.667</td>\n",
       "      <td>B</td>\n",
       "      <td>118221</td>\n",
       "    </tr>\n",
       "    <tr>\n",
       "      <th>421567</th>\n",
       "      <td>45</td>\n",
       "      <td>98</td>\n",
       "      <td>2012-10-12</td>\n",
       "      <td>1061.02</td>\n",
       "      <td>False</td>\n",
       "      <td>54.47</td>\n",
       "      <td>4.000</td>\n",
       "      <td>1956.28</td>\n",
       "      <td>0.00</td>\n",
       "      <td>7.89</td>\n",
       "      <td>599.32</td>\n",
       "      <td>3990.54</td>\n",
       "      <td>192.327265</td>\n",
       "      <td>8.667</td>\n",
       "      <td>B</td>\n",
       "      <td>118221</td>\n",
       "    </tr>\n",
       "    <tr>\n",
       "      <th>421568</th>\n",
       "      <td>45</td>\n",
       "      <td>98</td>\n",
       "      <td>2012-10-19</td>\n",
       "      <td>760.01</td>\n",
       "      <td>False</td>\n",
       "      <td>56.47</td>\n",
       "      <td>3.969</td>\n",
       "      <td>2004.02</td>\n",
       "      <td>0.00</td>\n",
       "      <td>3.18</td>\n",
       "      <td>437.73</td>\n",
       "      <td>1537.49</td>\n",
       "      <td>192.330854</td>\n",
       "      <td>8.667</td>\n",
       "      <td>B</td>\n",
       "      <td>118221</td>\n",
       "    </tr>\n",
       "    <tr>\n",
       "      <th>421569</th>\n",
       "      <td>45</td>\n",
       "      <td>98</td>\n",
       "      <td>2012-10-26</td>\n",
       "      <td>1076.80</td>\n",
       "      <td>False</td>\n",
       "      <td>58.85</td>\n",
       "      <td>3.882</td>\n",
       "      <td>4018.91</td>\n",
       "      <td>58.08</td>\n",
       "      <td>100.00</td>\n",
       "      <td>211.94</td>\n",
       "      <td>858.33</td>\n",
       "      <td>192.308899</td>\n",
       "      <td>8.667</td>\n",
       "      <td>B</td>\n",
       "      <td>118221</td>\n",
       "    </tr>\n",
       "  </tbody>\n",
       "</table>\n",
       "<p>420212 rows × 16 columns</p>\n",
       "</div>"
      ]
     },
     "execution_count": 9,
     "metadata": {},
     "output_type": "execute_result"
    }
   ],
   "execution_count": 9
  },
  {
   "metadata": {
    "ExecuteTime": {
     "end_time": "2025-03-15T12:01:07.930483Z",
     "start_time": "2025-03-15T12:01:07.908985Z"
    }
   },
   "cell_type": "code",
   "source": "df_encoded = df.copy()",
   "id": "2c9add274baf3bfa",
   "outputs": [],
   "execution_count": 10
  },
  {
   "metadata": {},
   "cell_type": "markdown",
   "source": "### Doing encoding, sorting the values by Date",
   "id": "ee14c573600885de"
  },
  {
   "metadata": {
    "ExecuteTime": {
     "end_time": "2025-03-15T12:01:08.533713Z",
     "start_time": "2025-03-15T12:01:08.444025Z"
    }
   },
   "cell_type": "code",
   "source": [
    "type_group = {'A':1, 'B': 2, 'C': 3}  \n",
    "df_encoded['Type'] = df_encoded['Type'].replace(type_group)"
   ],
   "id": "c1a36095ca9d6cec",
   "outputs": [
    {
     "name": "stderr",
     "output_type": "stream",
     "text": [
      "C:\\Users\\Mike\\AppData\\Local\\Temp\\ipykernel_18440\\1406666383.py:2: FutureWarning: Downcasting behavior in `replace` is deprecated and will be removed in a future version. To retain the old behavior, explicitly call `result.infer_objects(copy=False)`. To opt-in to the future behavior, set `pd.set_option('future.no_silent_downcasting', True)`\n",
      "  df_encoded['Type'] = df_encoded['Type'].replace(type_group)\n"
     ]
    }
   ],
   "execution_count": 11
  },
  {
   "metadata": {
    "ExecuteTime": {
     "end_time": "2025-03-15T12:01:11.669741Z",
     "start_time": "2025-03-15T12:01:11.494271Z"
    }
   },
   "cell_type": "code",
   "source": "df_encoded = df_encoded.sort_values(by='Date', ascending=True)",
   "id": "827ea0c278a5a883",
   "outputs": [],
   "execution_count": 12
  },
  {
   "metadata": {},
   "cell_type": "markdown",
   "source": "### Mapping the holidays and Month, Year and Week Number columns",
   "id": "6d5d046c5fbe131c"
  },
  {
   "metadata": {
    "ExecuteTime": {
     "end_time": "2025-03-15T12:01:12.195618Z",
     "start_time": "2025-03-15T12:01:11.958596Z"
    }
   },
   "cell_type": "code",
   "source": [
    "import pandas as pd\n",
    "\n",
    "# Convert Date to datetime\n",
    "df_encoded['Date'] = pd.to_datetime(df_encoded['Date'])\n",
    "\n",
    "# Extract date-based features\n",
    "df_encoded['Month'] = df_encoded['Date'].dt.month           # Numeric month (1-12)\n",
    "df_encoded['Year'] = df_encoded['Date'].dt.year             # Four-digit year\n",
    "df_encoded['Week'] = df_encoded['Date'].dt.isocalendar().week  # ISO week number\n",
    "\n",
    "# Define holiday mapping and encoding\n",
    "holiday_map = {\n",
    "    '2010-02-12': 'Super Bowl',  '2011-02-11': 'Super Bowl',  '2012-02-10': 'Super Bowl',\n",
    "    '2010-09-10': 'Labor Day',   '2011-09-09': 'Labor Day',   '2012-09-07': 'Labor Day',\n",
    "    '2010-11-26': 'Thanksgiving','2011-11-25': 'Thanksgiving',\n",
    "    '2010-12-31': 'Christmas',   '2011-12-30': 'Christmas'\n",
    "}\n",
    "holiday_encoding = {'Super Bowl': 1, 'Thanksgiving': 2, 'Christmas': 3, 'Labor Day': 4}\n",
    "\n",
    "# Encode IsHoliday directly\n",
    "df_encoded['IsHoliday'] = (\n",
    "    df_encoded['Date'].dt.strftime('%Y-%m-%d')\n",
    "    .map(holiday_map)\n",
    "    .map(holiday_encoding)\n",
    "    .fillna(0)\n",
    "    .astype(int)\n",
    ")\n",
    "\n",
    "\n",
    "print(df_encoded.head())\n"
   ],
   "id": "3b4cbd52ae20f6d4",
   "outputs": [
    {
     "name": "stdout",
     "output_type": "stream",
     "text": [
      "        Store  Dept       Date  Weekly_Sales  IsHoliday  Temperature  \\\n",
      "0           1     1 2010-02-05      24924.50          0        42.31   \n",
      "140804     15    21 2010-02-05       3253.19          0        19.83   \n",
      "140661     15    20 2010-02-05       4606.90          0        19.83   \n",
      "140518     15    19 2010-02-05       1381.40          0        19.83   \n",
      "140408     15    18 2010-02-05       2239.25          0        19.83   \n",
      "\n",
      "        Fuel_Price  MarkDown1  MarkDown2  MarkDown3  MarkDown4  MarkDown5  \\\n",
      "0            2.572        0.0        0.0        0.0        0.0        0.0   \n",
      "140804       2.954        0.0        0.0        0.0        0.0        0.0   \n",
      "140661       2.954        0.0        0.0        0.0        0.0        0.0   \n",
      "140518       2.954        0.0        0.0        0.0        0.0        0.0   \n",
      "140408       2.954        0.0        0.0        0.0        0.0        0.0   \n",
      "\n",
      "               CPI  Unemployment  Type    Size  Month  Year  Week  \n",
      "0       211.096358         8.106     1  151315      2  2010     5  \n",
      "140804  131.527903         8.350     2  123737      2  2010     5  \n",
      "140661  131.527903         8.350     2  123737      2  2010     5  \n",
      "140518  131.527903         8.350     2  123737      2  2010     5  \n",
      "140408  131.527903         8.350     2  123737      2  2010     5  \n"
     ]
    }
   ],
   "execution_count": 13
  },
  {
   "metadata": {
    "ExecuteTime": {
     "end_time": "2025-03-15T12:01:13.154999Z",
     "start_time": "2025-03-15T12:01:13.140023Z"
    }
   },
   "cell_type": "code",
   "source": "df_encoded.drop(columns=['Date'], inplace=True)",
   "id": "4282e52bd85212a2",
   "outputs": [],
   "execution_count": 14
  },
  {
   "metadata": {
    "ExecuteTime": {
     "end_time": "2025-03-15T12:01:13.755072Z",
     "start_time": "2025-03-15T12:01:13.737452Z"
    }
   },
   "cell_type": "code",
   "source": "df_new = df_encoded.copy()",
   "id": "84d1472f77ca1ac1",
   "outputs": [],
   "execution_count": 15
  },
  {
   "metadata": {
    "ExecuteTime": {
     "end_time": "2025-03-15T12:01:14.262690Z",
     "start_time": "2025-03-15T12:01:14.257309Z"
    }
   },
   "cell_type": "code",
   "source": "df_new['IsHoliday'].value_counts()",
   "id": "eb0421c08ca3f258",
   "outputs": [
    {
     "data": {
      "text/plain": [
       "IsHoliday\n",
       "0    390652\n",
       "1      8873\n",
       "4      8832\n",
       "2      5946\n",
       "3      5909\n",
       "Name: count, dtype: int64"
      ]
     },
     "execution_count": 16,
     "metadata": {},
     "output_type": "execute_result"
    }
   ],
   "execution_count": 16
  },
  {
   "metadata": {},
   "cell_type": "markdown",
   "source": "### Building correlation matrix",
   "id": "13eeaea4b09880b3"
  },
  {
   "metadata": {
    "ExecuteTime": {
     "end_time": "2025-03-15T12:01:15.211074Z",
     "start_time": "2025-03-15T12:01:14.863470Z"
    }
   },
   "cell_type": "code",
   "source": [
    "# Select only numeric columns for correlation\n",
    "df_numeric = df_new.select_dtypes(include=['number'])\n",
    "\n",
    "plt.style.use(\"dark_background\")\n",
    "plt.figure(figsize=(12,10))\n",
    "\n",
    "sns.heatmap(\n",
    "    df_numeric.corr().abs(),  # correlation of numeric columns only\n",
    "    cmap=\"magma\",             # dark purple to pink/orange/white\n",
    "    square=True\n",
    ")\n",
    "\n",
    "plt.show()\n"
   ],
   "id": "a6e5ff88729991eb",
   "outputs": [
    {
     "data": {
      "text/plain": [
       "<Figure size 1200x1000 with 2 Axes>"
      ],
      "image/png": "[encoded data removed]"
     },
     "metadata": {},
     "output_type": "display_data"
    }
   ],
   "execution_count": 17
  },
  {
   "metadata": {},
   "cell_type": "markdown",
   "source": "### Size, Type, Department and Store have a correlation with a Weekly sales. ",
   "id": "cb7b337c7b005262"
  },
  {
   "metadata": {},
   "cell_type": "markdown",
   "source": "### Lets try and build Gradient boosting model and custom weighted mean absolute error score",
   "id": "d0640ddcc4e42644"
  },
  {
   "metadata": {
    "ExecuteTime": {
     "end_time": "2025-03-15T12:01:15.514490Z",
     "start_time": "2025-03-15T12:01:15.501147Z"
    }
   },
   "cell_type": "code",
   "source": [
    "train_data = df_new[:int(0.7*(len(df_new)))] # taking train part\n",
    "test_data = df_new[int(0.7*(len(df_new))):] # taking test part\n",
    "\n",
    "target = \"Weekly_Sales\"\n",
    "used_cols = [c for c in df_new.columns.to_list() if c not in [target]] # all columns except weekly sales\n",
    "\n",
    "X_train = train_data[used_cols]\n",
    "X_test = test_data[used_cols]\n",
    "y_train = train_data[target]\n",
    "y_test = test_data[target]"
   ],
   "id": "387b8f64ddba5867",
   "outputs": [],
   "execution_count": 18
  },
  {
   "metadata": {
    "ExecuteTime": {
     "end_time": "2025-03-15T12:01:16.675505Z",
     "start_time": "2025-03-15T12:01:16.672462Z"
    }
   },
   "cell_type": "code",
   "source": [
    "def wmae(y_true, y_pred, sample_weight=None):\n",
    "    if sample_weight is None:\n",
    "        sample_weight = np.ones(len(y_true))\n",
    "    return np.sum(sample_weight * np.abs(y_true - y_pred)) / np.sum(sample_weight)\n",
    "\n",
    "train_weights = np.ones(len(X_train))  \n",
    "test_weights = np.ones(len(X_test))"
   ],
   "id": "333bfa268c2339e1",
   "outputs": [],
   "execution_count": 19
  },
  {
   "metadata": {
    "ExecuteTime": {
     "end_time": "2025-03-15T12:01:36.208891Z",
     "start_time": "2025-03-15T12:01:17.165164Z"
    }
   },
   "cell_type": "code",
   "source": [
    "# Fit a Gradient Boosting model ---\n",
    "model = GradientBoostingRegressor(n_estimators=50, random_state=42, max_depth=35, max_features = 'sqrt',min_samples_split = 10)\n",
    "model.fit(X_train, y_train, sample_weight=train_weights)\n",
    "\n",
    "#  Predict on the test set and evaluate WMAE ---\n",
    "preds = model.predict(X_test)\n",
    "test_wmae = wmae(y_test.values, preds, sample_weight=test_weights)\n",
    "print(\"Test WMAE:\", test_wmae)"
   ],
   "id": "bf34512bef743e82",
   "outputs": [
    {
     "name": "stdout",
     "output_type": "stream",
     "text": [
      "Test WMAE: 3705.7471471195804\n"
     ]
    }
   ],
   "execution_count": 20
  },
  {
   "metadata": {},
   "cell_type": "markdown",
   "source": "### Score showed 3705 which is roughly equal to a 23% error according to our values",
   "id": "fffd3720f411b84f"
  },
  {
   "metadata": {
    "ExecuteTime": {
     "end_time": "2025-03-15T12:01:51.037404Z",
     "start_time": "2025-03-15T12:01:50.916601Z"
    }
   },
   "cell_type": "code",
   "source": [
    "importances = model.feature_importances_\n",
    "\n",
    "# Sort the feature importances in descending order\n",
    "indices = np.argsort(importances)[::-1]\n",
    "sorted_features = np.array(used_cols)[indices]\n",
    "sorted_importances = importances[indices]\n",
    "\n",
    "# Plot the feature importances\n",
    "plt.figure(figsize=(10, 6))\n",
    "plt.bar(range(len(sorted_importances)), sorted_importances, align='center')\n",
    "plt.xticks(range(len(sorted_features)), sorted_features, rotation=45, ha='right')\n",
    "plt.xlabel('Features')\n",
    "plt.ylabel('Importance')\n",
    "plt.title('Gradient Boosting Feature Importances')\n",
    "plt.tight_layout()\n",
    "plt.show()\n"
   ],
   "id": "5adbe7cd72c9b6d6",
   "outputs": [
    {
     "data": {
      "text/plain": [
       "<Figure size 1000x600 with 1 Axes>"
      ],
      "image/png": "[encoded data removed]"
     },
     "metadata": {},
     "output_type": "display_data"
    }
   ],
   "execution_count": 22
  },
  {
   "metadata": {},
   "cell_type": "markdown",
   "source": "### Feature importance histogram shows that Dept has a very high importance, the model heavily relies on the information captured by this feature.\n",
   "id": "de9bcc60ceb22c50"
  },
  {
   "metadata": {},
   "cell_type": "markdown",
   "source": "### Lets build a feature importance model ",
   "id": "754f0559c4e09fb"
  },
  {
   "metadata": {
    "ExecuteTime": {
     "end_time": "2025-03-15T12:02:07.767445Z",
     "start_time": "2025-03-15T12:01:51.767609Z"
    }
   },
   "cell_type": "code",
   "source": [
    "\n",
    "# Extract feature importances\n",
    "feature_importance_pairs = list(zip(used_cols, importances))\n",
    "\n",
    "# Sort by importance descending\n",
    "feature_importance_pairs.sort(key=lambda x: x[1], reverse=True)\n",
    "\n",
    "# Print (or visualize) them to see which are most important\n",
    "print(\"Feature Importances (Descending):\")\n",
    "for feature, imp in feature_importance_pairs:\n",
    "    print(f\"{feature}: {imp:.4f}\")\n",
    "    \n",
    "# Select top features\n",
    "threshold = 0.02  \n",
    "selected_features = [feat for feat, imp in feature_importance_pairs if imp > threshold]\n",
    "\n",
    "print(\"\\nSelected Features:\", selected_features)\n",
    "\n",
    "# Retrain model using only the selected features\n",
    "X_train_selected = X_train[selected_features]\n",
    "X_test_selected = X_test[selected_features]\n",
    "\n",
    "model_refined = GradientBoostingRegressor( n_estimators=150, random_state=42, max_depth=64, max_features='sqrt',min_samples_split=10)\n",
    "model_refined.fit(X_train_selected, y_train)\n",
    "\n",
    "# Predict on the test set\n",
    "y_pred_test_refined = model_refined.predict(X_test_selected)\n",
    "test_wmae_refined = wmae(y_test.values, y_pred_test_refined, sample_weight=test_weights)\n",
    "print(\"Test WMAE (Refined Model):\", test_wmae_refined)\n"
   ],
   "id": "696df2db0130a2ae",
   "outputs": [
    {
     "name": "stdout",
     "output_type": "stream",
     "text": [
      "Feature Importances (Descending):\n",
      "Dept: 0.7713\n",
      "Size: 0.1004\n",
      "Store: 0.0357\n",
      "CPI: 0.0199\n",
      "Type: 0.0159\n",
      "Unemployment: 0.0149\n",
      "Week: 0.0119\n",
      "Temperature: 0.0073\n",
      "Fuel_Price: 0.0061\n",
      "Month: 0.0057\n",
      "IsHoliday: 0.0029\n",
      "MarkDown3: 0.0026\n",
      "MarkDown4: 0.0015\n",
      "MarkDown5: 0.0011\n",
      "MarkDown2: 0.0011\n",
      "MarkDown1: 0.0009\n",
      "Year: 0.0007\n",
      "\n",
      "Selected Features: ['Dept', 'Size', 'Store']\n",
      "Test WMAE (Refined Model): 2672.8770084199905\n"
     ]
    }
   ],
   "execution_count": 23
  },
  {
   "metadata": {},
   "cell_type": "markdown",
   "source": [
    "### The threshold and the hyperparameters are not random, after several experiments this is the values that worked the best in my case. \n",
    "### The best result I could achieve was a value of 2672 WMAE with 3 selected top features which is equal to 16-17% error\n",
    "### This is not optimal result so I will try exponential smoothing model in my other notebook. "
   ],
   "id": "8ffa1b1fbfcf3bb3"
  }
 ],
 "metadata": {
  "kernelspec": {
   "display_name": "Python 3",
   "language": "python",
   "name": "python3"
  },
  "language_info": {
   "codemirror_mode": {
    "name": "ipython",
    "version": 2
   },
   "file_extension": ".py",
   "mimetype": "text/x-python",
   "name": "python",
   "nbconvert_exporter": "python",
   "pygments_lexer": "ipython2",
   "version": "2.7.6"
  }
 },
 "nbformat": 4,
 "nbformat_minor": 5
}
